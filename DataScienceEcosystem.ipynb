{
 "cells": [
  {
   "cell_type": "markdown",
   "id": "82ed2c32-0d23-4446-956e-8c31555de4f4",
   "metadata": {},
   "source": [
    "# Data Science Tools and Ecosystem #"
   ]
  },
  {
   "cell_type": "markdown",
   "id": "6ab5aeac-cdf0-4651-8fb9-16e4530c86a5",
   "metadata": {},
   "source": [
    "In this notebook, Data Science Tools and Ecosystem are summarized."
   ]
  },
  {
   "cell_type": "markdown",
   "id": "1492619b-57ff-49ed-9f3b-0df88c1eafae",
   "metadata": {},
   "source": [
    "**Objectives:**\n",
    "-\n",
    "   - Some of the popular languages that Data Scientists use are\n",
    "   - Some of the commonly used libraries used by Data Scientists include\n",
    "   - Data Science Tools"
   ]
  },
  {
   "cell_type": "markdown",
   "id": "a615a4fb-77cf-49e9-bf27-8d0399b71dde",
   "metadata": {},
   "source": [
    "Some of the popular languages that Data Scientists use are:\n",
    "- \n",
    "    1. Python\n",
    "    2. R\n",
    "    3. SQL"
   ]
  },
  {
   "cell_type": "markdown",
   "id": "c61ec740-d8af-4d22-b3d3-e02e1ad6d16c",
   "metadata": {},
   "source": [
    "Some of the commonly used libraries used by Data Scientists include:\n",
    "-\n",
    "    - Numpy\n",
    "    - Pandas\n",
    "    - Pytorch\n",
    "    "
   ]
  },
  {
   "cell_type": "markdown",
   "id": "a71839c6-803e-44de-bec7-7d6aa90db5c7",
   "metadata": {},
   "source": [
    "| Data Science Tools |\n",
    "| ------------------ |\n",
    "| MATLAB |\n",
    "| Excel |\n",
    "| ggplot2 |\n",
    "| Tableau |"
   ]
  },
  {
   "cell_type": "markdown",
   "id": "f8011871-c3ae-45b7-b744-eb49fb7cf0ad",
   "metadata": {},
   "source": [
    "### Below are a few examples of evaluating arithmetic expressions in Python ###"
   ]
  },
  {
   "cell_type": "code",
   "execution_count": 2,
   "id": "d0f90e63-7bc6-4d71-9c06-5f83abdd4a20",
   "metadata": {},
   "outputs": [
    {
     "data": {
      "text/plain": [
       "17"
      ]
     },
     "execution_count": 2,
     "metadata": {},
     "output_type": "execute_result"
    }
   ],
   "source": [
    "#This a simple arithmetic expression to mutiply then add integers#\n",
    "(3*4)+5"
   ]
  },
  {
   "cell_type": "code",
   "execution_count": 3,
   "id": "b29c7765-59db-4259-8d82-c504b14143d2",
   "metadata": {},
   "outputs": [
    {
     "data": {
      "text/plain": [
       "3.3333333333333335"
      ]
     },
     "execution_count": 3,
     "metadata": {},
     "output_type": "execute_result"
    }
   ],
   "source": [
    "# This will convert 200 minutes to hours by diving by 60#\n",
    "200/60"
   ]
  },
  {
   "cell_type": "markdown",
   "id": "16762eb3-23b2-4f3c-9ba2-609f09130f02",
   "metadata": {},
   "source": [
    "## Author\n",
    "Reema"
   ]
  }
 ],
 "metadata": {
  "kernelspec": {
   "display_name": "Python",
   "language": "python",
   "name": "conda-env-python-py"
  },
  "language_info": {
   "codemirror_mode": {
    "name": "ipython",
    "version": 3
   },
   "file_extension": ".py",
   "mimetype": "text/x-python",
   "name": "python",
   "nbconvert_exporter": "python",
   "pygments_lexer": "ipython3",
   "version": "3.7.12"
  }
 },
 "nbformat": 4,
 "nbformat_minor": 5
}
